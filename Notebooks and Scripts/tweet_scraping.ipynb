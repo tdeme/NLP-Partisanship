{
  "nbformat": 4,
  "nbformat_minor": 0,
  "metadata": {
    "colab": {
      "name": "tweet_scraping",
      "provenance": []
    },
    "kernelspec": {
      "name": "python3",
      "display_name": "Python 3"
    },
    "language_info": {
      "name": "python"
    },
    "accelerator": "GPU"
  },
  "cells": [
    {
      "cell_type": "code",
      "metadata": {
        "id": "6I7SV-59jZa1"
      },
      "source": [
        "import pandas as pd"
      ],
      "execution_count": null,
      "outputs": []
    },
    {
      "cell_type": "code",
      "metadata": {
        "id": "ZsIDIf6Rjge5"
      },
      "source": [
        "!git clone --depth=1 https://github.com/twintproject/twint.git\n",
        "%cd twint\n",
        "!pip3 install . -r requirements.txt"
      ],
      "execution_count": null,
      "outputs": []
    },
    {
      "cell_type": "code",
      "metadata": {
        "id": "4aU0um3Eo4rW"
      },
      "source": [
        "import twint\n",
        "import nest_asyncio\n",
        "nest_asyncio.apply()\n",
        "\n",
        "\n",
        "left_handles = ('SenSanders','VP','SenGillibrand','SenJeffMerkley','SenBooker','SenMarkey','maziehirono','SenBlumenthal','SenSherrodBrown','ChrisVanHollen')\n",
        "right_handles = ('tedcruz','MarshaBlackburn','SenKevinCramer','SenatorBraun','JimInhofe','SenTomCotton','SenJoniErnst','sendavidperdue','SenThomTillis','SenatorLoeffler')\n",
        "\n",
        "left_tweets_df = pd.DataFrame() #Initialize empty DataFrame objects for left and right politicians\n",
        "right_tweets_df = pd.DataFrame()\n",
        "\n",
        "c = twint.Config()\n",
        "for handle in left_handles:\n",
        "  c.Username = handle\n",
        "  c.Custom[\"tweet\"] = [\"id\"]\n",
        "  c.Custom[\"user\"] = [\"bio\"]\n",
        "  c.Limit = 5000 #Will pull 5000 most recent tweets\n",
        "  c.Pandas = True\n",
        "  c.Store_csv = True\n",
        "  c.Store_object=True\n",
        "\n",
        "\n",
        "  twint.run.Search(c)\n",
        "\n",
        "  df2 = twint.storage.panda.Tweets_df #Store the pulled tweets in a temporary twint DataFrame\n",
        "\n",
        "  left_tweets_df = pd.concat([left_tweets_df,df2]) #Add the new temporary DataFrame to the parent Df\n",
        "\n",
        "c = twint.Config()\n",
        "for handle in right_handles: #Repeat for right politicians\n",
        "  c.Username = handle\n",
        "  c.Custom[\"tweet\"] = [\"id\"]\n",
        "  c.Custom[\"user\"] = [\"bio\"]\n",
        "  c.Limit = 5000\n",
        "  c.Pandas = True\n",
        "  c.Store_csv = True\n",
        "  c.Store_object=True\n",
        "\n",
        "\n",
        "  twint.run.Search(c)\n",
        "\n",
        "  df2 = twint.storage.panda.Tweets_df\n",
        "\n",
        "  right_tweets_df = pd.concat([right_tweets_df,df2])"
      ],
      "execution_count": null,
      "outputs": []
    },
    {
      "cell_type": "code",
      "metadata": {
        "id": "mDtmC6yv4eUB"
      },
      "source": [
        "left_tweets_df.to_csv('Rleft_tweets.csv')\n",
        "right_tweets_df.to_csv('Rright_tweets.csv')"
      ],
      "execution_count": null,
      "outputs": []
    },
    {
      "cell_type": "code",
      "metadata": {
        "colab": {
          "base_uri": "https://localhost:8080/"
        },
        "id": "Iqhpkgyb-BPu",
        "outputId": "0a536f7e-c645-42be-cacc-d8eed8461853"
      },
      "source": [
        "print(len(left_tweets_df))\n",
        "print(len(right_tweets_df))"
      ],
      "execution_count": null,
      "outputs": [
        {
          "output_type": "stream",
          "text": [
            "49532\n",
            "40105\n"
          ],
          "name": "stdout"
        }
      ]
    }
  ]
}